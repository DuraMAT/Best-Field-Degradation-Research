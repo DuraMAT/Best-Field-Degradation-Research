{
 "cells": [
  {
   "cell_type": "markdown",
   "metadata": {},
   "source": [
    "# 1 - Performance Data\n",
    "\n",
    "**Requirements:**\n",
    "- Key to the Duramat API\n",
    "\n",
    "**Objectives:**\n",
    "1. Read in performance data from the bifacial field\n",
    "2. Plot monthly performance by row\n",
    "3. Plot bifacial gain"
   ]
  },
  {
   "cell_type": "code",
   "execution_count": null,
   "metadata": {},
   "outputs": [],
   "source": [
    "# if running on google colab, uncomment the next line and execute this cell to install the dependencies and prevent \"ModuleNotFoundError\" in later cells:\n",
    "# pip install -r ../requirements.txt"
   ]
  },
  {
   "cell_type": "code",
   "execution_count": 1,
   "metadata": {},
   "outputs": [],
   "source": [
    "import os\n",
    "import pandas as pd\n",
    "import json\n",
    "import pprint as pp\n",
    "import urllib.request as ur\n",
    "import urllib.parse as up"
   ]
  },
  {
   "cell_type": "code",
   "execution_count": 2,
   "metadata": {},
   "outputs": [
    {
     "name": "stdout",
     "output_type": "stream",
     "text": [
      "Working on a  Windows 10\n",
      "Python version  3.11.7 | packaged by Anaconda, Inc. | (main, Dec 15 2023, 18:05:47) [MSC v.1916 64 bit (AMD64)]\n",
      "Pandas version  2.1.0\n"
     ]
    }
   ],
   "source": [
    "# This information helps with debugging and getting support :)\n",
    "import sys, platform\n",
    "print(\"Working on a \", platform.system(), platform.release())\n",
    "print(\"Python version \", sys.version)\n",
    "print(\"Pandas version \", pd.__version__)\n"
   ]
  },
  {
   "cell_type": "code",
   "execution_count": 33,
   "metadata": {},
   "outputs": [],
   "source": [
    "dataset_id ='72334fe1-fa52-45f8-a43c-836a35b9c526'  # For BEST Field Data\n",
    "resource_id='1c3ac2d9-4734-49b5-b1e7-577a4cc62d80'  # 'BEST_Data.csv'\n",
    "\n",
    "# Set your API token. Since this is open-source data, not really needed.\n",
    "api_token = ''\n",
    "\n",
    "# build url pieces\n",
    "emn_datahub = 'https://datahub.duramat.org'\n",
    "\n",
    "# Helper to build a URI for a given API action\n",
    "action = lambda a: '{}/api/3/action/{}'.format(emn_datahub, a)        \n",
    "params = {\n",
    "    'id': dataset_id,\n",
    "}\n",
    "param_string = up.urlencode( params )\n",
    "#Build composite url for request\n",
    "url = action('package_show') + '?' + param_string\n",
    "# https://datahub.duramat.org/api/3/action/package_show\n",
    "request = ur.Request(url)\n",
    "# Add authorization\n",
    "#request.add_header('Authorization', self.dhkey)\n",
    "response = ur.urlopen(request)\n",
    "dataset = json.loads(response.read().decode('utf-8'))   \n",
    "\n",
    "# Find the resource with the specified resource_id\n",
    "resource_url = None\n",
    "for resource in dataset['result']['resources']:\n",
    "    if resource['id'] == resource_id:\n",
    "        resource_url = resource['url']\n",
    "        break\n",
    "\n",
    "if resource_url is None:\n",
    "    raise ValueError(f'Resource with id {resource_id} not found in dataset {dataset_id}')\n",
    "\n",
    "#Download the public CKAN url directly to pandas. Note! If you have the actual URL from browsing\n",
    "#the data hub, you can simply place that resource download URL directly into a pandas read_csv() \n",
    "#call.\n",
    "df = pd.read_csv(resource_url)"
   ]
  },
  {
   "cell_type": "code",
   "execution_count": 34,
   "metadata": {},
   "outputs": [
    {
     "data": {
      "text/plain": [
       "[<matplotlib.lines.Line2D at 0x2b05d267690>]"
      ]
     },
     "execution_count": 34,
     "metadata": {},
     "output_type": "execute_result"
    },
    {
     "data": {
      "image/png": "[encoded data removed]",
      "text/plain": [
       "<Figure size 640x480 with 1 Axes>"
      ]
     },
     "metadata": {},
     "output_type": "display_data"
    }
   ],
   "source": [
    "plt.plot(df['Yf8'])"
   ]
  },
  {
   "cell_type": "code",
   "execution_count": 35,
   "metadata": {},
   "outputs": [
    {
     "data": {
      "text/plain": [
       "Index(['Unnamed: 0', 'row2dcp', 'row2Gpoa_front', 'row2kWh', 'row2dcv',\n",
       "       'row2dci', 'row2tmod', 'Yf2', 'PR2', 'row8dcp', 'row8Gpoa_front',\n",
       "       'row8Gpoa_rear', 'Yf8', 'PR8', 'row9dcp', 'row9Gpoa_front',\n",
       "       'row9Gpoa_rear', 'row9kWh', 'row9dcv', 'row9dci', 'row9tmod', 'Yf9',\n",
       "       'PR9', 'poa_irradiance_front_IMT', 'poa_irradiance_rear_IMT_West',\n",
       "       'poa_irradiance_rear_IMT_CenterWest',\n",
       "       'poa_irradiance_rear_IMT_CenterEast', 'poa_irradiance_rear_IMT_East',\n",
       "       'poa_irradiance_front_licor', 'poa_irradiance_rear_licor',\n",
       "       'poa_irradiance_front_cm11', 'poa_irradiance_rear_cm11',\n",
       "       'sunkitty_albedo_1', 'sunkitty_GRI_CM22', 'sunkitty_GHI_CM22',\n",
       "       'sunkitty_albedo_2', 'sunkitty_GRI_IMT', 'sunkitty_GHI_IMT',\n",
       "       'sunkitty_albedo_3', 'sunkitty_GRI_AP', 'sunkitty_GHI_AP',\n",
       "       'Hydra_current_1', 'Hydra_current_2', 'Hydra_current_3',\n",
       "       'Hydra_current_4', 'Hydra_current_5', 'Hydra_current_6',\n",
       "       'Hydra_current_7', 'Hydra_current_8', 'Hydra_current_9',\n",
       "       'Hydra_current_10', 'Hydra_current_11', 'Hydra_current_12',\n",
       "       'temp_ambient', 'wind_direction', 'wind_speed',\n",
       "       'SRRL Tower Dry Bulb Temp [deg C]', 'SRRL Avg Wind Speed @ 6ft [m/s]',\n",
       "       'SRRL Direct CHP1-1 [W/m^2]', 'SRRL Diffuse 8-48 (vent) [W/m^2]',\n",
       "       'SRRL Global CMP22 (vent/cor) [W/m^2]', 'SRRL Albedo (CMP11)'],\n",
       "      dtype='object')"
      ]
     },
     "execution_count": 35,
     "metadata": {},
     "output_type": "execute_result"
    }
   ],
   "source": [
    "df.keys()"
   ]
  }
 ],
 "metadata": {
  "kernelspec": {
   "display_name": "Python 3 (ipykernel)",
   "language": "python",
   "name": "python3"
  },
  "language_info": {
   "codemirror_mode": {
    "name": "ipython",
    "version": 3
   },
   "file_extension": ".py",
   "mimetype": "text/x-python",
   "name": "python",
   "nbconvert_exporter": "python",
   "pygments_lexer": "ipython3",
   "version": "3.11.7"
  },
  "vscode": {
   "interpreter": {
    "hash": "14c04630f1cd445b2532d35c77825134bfcafda47af70d0b9c2b5023b1f357a5"
   }
  }
 },
 "nbformat": 4,
 "nbformat_minor": 4
}
