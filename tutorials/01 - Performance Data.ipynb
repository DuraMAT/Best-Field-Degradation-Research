{
 "cells": [
  {
   "cell_type": "markdown",
   "metadata": {},
   "source": [
    "# 1 - Performance Data\n",
    "\n",
    "**Requirements:**\n",
    "- Key to the Duramat API\n",
    "\n",
    "**Objectives:**\n",
    "1. Read in performance data from the bifacial field\n",
    "2. Plot monthly performance by row\n",
    "3. Plot bifacial gain"
   ]
  },
  {
   "cell_type": "code",
   "execution_count": 15,
   "metadata": {},
   "outputs": [],
   "source": [
    "# if running on google colab, uncomment the next line and execute this cell to install the dependencies and prevent \"ModuleNotFoundError\" in later cells:\n",
    "# pip install -r ../requirements.txt"
   ]
  },
  {
   "cell_type": "code",
   "execution_count": 9,
   "metadata": {},
   "outputs": [],
   "source": [
    "import os\n",
    "import pandas as pd\n",
    "import json\n",
    "import pprint as pp\n",
    "import urllib.request as ur\n",
    "import urllib.parse as up"
   ]
  },
  {
   "cell_type": "code",
   "execution_count": 4,
   "metadata": {},
   "outputs": [
    {
     "name": "stdout",
     "output_type": "stream",
     "text": [
      "Working on a  Windows 10\n",
      "Python version  3.11.7 | packaged by Anaconda, Inc. | (main, Dec 15 2023, 18:05:47) [MSC v.1916 64 bit (AMD64)]\n",
      "Pandas version  2.1.0\n"
     ]
    }
   ],
   "source": [
    "# This information helps with debugging and getting support :)\n",
    "import sys, platform\n",
    "print(\"Working on a \", platform.system(), platform.release())\n",
    "print(\"Python version \", sys.version)\n",
    "print(\"Pandas version \", pd.__version__)\n"
   ]
  },
  {
   "cell_type": "code",
   "execution_count": 5,
   "metadata": {},
   "outputs": [],
   "source": [
    "# FILE TO READ IN DETAILS:\n",
    "data_url = r'https://datahub.duramat.org/dataset/best-field-data/resource/1c3ac2d9-4734-49b5-b1e7-577a4cc62d80'\n",
    "projectID = '8e40c3ae-f53e-4a48-8223-2d760840bf8f'\n",
    "datasetID = '72334fe1-fa52-45f8-a43c-836a35b9c526'\n",
    "filename = r'BEST_Data.csv'"
   ]
  },
  {
   "cell_type": "code",
   "execution_count": 6,
   "metadata": {},
   "outputs": [
    {
     "data": {
      "text/plain": [
       "'https://datahub.duramat.org/api/3/action/project_list'"
      ]
     },
     "execution_count": 6,
     "metadata": {},
     "output_type": "execute_result"
    }
   ],
   "source": [
    "# build url pieces\n",
    "emn_datahub = 'https://datahub.duramat.org'\n",
    "\n",
    "# Helper to build a URI for a given API action\n",
    "action = lambda a: '{}/api/3/action/{}'.format(emn_datahub, a)\n",
    "\n",
    "action('project_list')"
   ]
  },
  {
   "cell_type": "code",
   "execution_count": 10,
   "metadata": {},
   "outputs": [],
   "source": [
    "# Set your API token\n",
    "api_token = ''\n",
    "request = ur.Request(action('project_list')) \n"
   ]
  },
  {
   "cell_type": "code",
   "execution_count": 11,
   "metadata": {},
   "outputs": [],
   "source": [
    "# Using only authorization for the GET header\n",
    "request.add_header('Authorization', api_token)"
   ]
  },
  {
   "cell_type": "code",
   "execution_count": 12,
   "metadata": {},
   "outputs": [
    {
     "name": "stdout",
     "output_type": "stream",
     "text": [
      "50-Year PV Modeling\t11ee5f43-96d6-44e0-b257-e81bd3c4dccb\n",
      "Accelerated Testing\t09b00777-8372-4140-9cde-6cae5cad4c33\n",
      "Adhesion and Adhesives\tf00849eb-a9a8-4fdc-a6d4-46ca38af7571\n",
      "Albedo Data for Bifacial PV Systems\tcc870bb7-2478-4d50-bb85-45303ba9770e\n",
      "Analyzing Hail Impacts on PV Modules Using Computational Simulation\tcb533a4c-6c3c-48c7-bf36-6639ce092ece\n",
      "BACKFLIP\tb9727172-ff2e-4281-b021-a079aeca5255\n",
      "Backside Defect Imaging in Si PV\ta050c26c-772b-4a80-8fe0-6c29468d52f9\n",
      "Backside UV Degradation Modelling\t19ab4aab-76a9-4ada-af3d-e3467c804586\n",
      "B and B Data\tb629e1a7-78e3-4571-81fe-469d1977897d\n",
      "BEST Field Degradation Research\t8ce838c8-15ba-4787-807a-3efc3a4c0b0c\n",
      "BS Depth Profile\t894f62f1-997e-40da-ba60-8b1c0a9846c4\n",
      "C-AST: Combined Accelerated Stress Testing\t39478fc3-bb49-4803-b807-2b0c1bc47e86\n",
      "Cell Crack Characterization using Digital Image Correlation\t51db1d8d-668e-4e52-8252-ae1064c269e9\n",
      "Cell Cracking and Power Loss in Modern Modules\t3437b315-b17a-4b02-9d3e-ba67a0017e8c\n",
      "Central Data Resource - Data Analysis\t23592611-d87b-48b4-9813-1215f68c8ba3\n",
      "Coatings\t330e6641-080f-4c9e-b4b8-cba123ebb360\n",
      "Coatings to Reduce Soiling and PID Losses\tfc2d79b1-afbc-4461-ad7a-ec85f45ad728\n",
      "Conductive Polymer Adhesive Composites\t02926b5d-4420-4c5c-bd08-d5e0bd682bc7\n",
      "Cracks and n-type field aging\ta6645381-c597-4e6c-a18d-50afccff53e2\n",
      "Current-Voltage Measurements\td27a1ebe-cd10-45d4-9063-4f3cf006b4ac\n",
      "Deconvoluting Simultaneous UV Degradations \t8aaf985d-530f-44b6-a27d-7c6194af9c60\n",
      "Data Access for PV Fleets Intial Meetings\t8d3f316d-e6cd-426c-bf8a-41c74ee898a4\n",
      "DuraMAT ARL\tfd73c215-da0a-46d9-93ca-60b4fca36935\n",
      "DuraMAT User Resources\t48c8b0e9-62f2-4d89-a6db-9b59e1be52c7\n",
      "DuraMAT HV+ and UV-LID\t6145ec96-44e9-4845-9443-04fbe6e6d2bc\n",
      "DuraMAT OMI development\t7e8e5b34-c1ed-4a5c-ac68-94cea6b9def2\n",
      "DECS (DuraMAT Early Career Scientists)\t2dcecb30-783c-4323-b363-c4ae8db7bca2\n",
      "Effect of Cell Cracks on Module Power Loss and Degradation \ta0f54716-00a0-4a51-bfed-711c3308b90f\n",
      "Electroluminescence Image Analysis\te1590137-80ec-4eab-8640-fdd0d16bfbfa\n",
      "Emerging module interconnect technologies \t6fd36359-c1d5-46fe-be78-df83ce52ee0f\n",
      "Encapsulant Degradation Mechanisms\t192e465f-74cd-4903-9303-c0396df961b5\n",
      "Encapsulant Degradation Mechanisms and Sequenced Accelerated Testing \t1bcf8504-1cdb-4add-b704-63d6c7dac729\n",
      "Encapsulants and Barriers\t1b3addeb-ccaf-4fb6-ada3-fba4cfbbef2e\n",
      "Enphase Micro-Inverter\t6448b09a-f253-4e5c-9a97-e9e88b628df5\n",
      "Example and Evaluation Data\te46c953f-0d84-41c8-9526-2a21950e6c92\n",
      "Flexible, Long Life Front Sheet\tf81c68d1-4769-4908-958f-3447d8a93633\n",
      "GG PV with Emerging Encapsulants and Half-Cut Cells \tcaeba0b6-1b3d-4cf9-bc97-c2e68d53690f\n",
      "Hail Forensics Database\t7f5409b5-2e3d-4c43-8224-0a6f54096031\n",
      "Hi-Throughput Optical Mapping\td08a0442-5a12-4546-be7b-b59251c494c1\n",
      "H-H, Anti-Reflective, and Anti-Soiling Coatings\td2242bbc-53f4-4cba-9be0-158d065a4cfd\n",
      "IBC Modules\t98f7b2e2-1fd9-4e6c-bc7e-59c2500d2733\n",
      "Identifying Degradation Mechanisms using Imaging\t7abf383b-7d5b-413d-b9f5-e0c26cbfe9f0\n",
      "IEC 62788-1-4 development\t484a8ccc-1a12-4842-a854-acb3cba4c4d3\n",
      "IEC 62788-7-3 development\t8e5b4558-44bd-41a8-aac8-388895ccd886\n",
      "Imaging Stress in c-Si\td2c01e97-a4dc-401d-9ff3-847ff5808812\n",
      "Large Module Glass Resilience \t7c3ccc67-0bf3-4ba7-a8f0-28046e16f500\n",
      "Laser Patterned Multifunctional Glass\tf5412163-8821-40c8-a587-bef3e7970cb9\n",
      "Laser welded Edge Seals\t432886df-c305-4120-ae45-5a5e5bdc84b2\n",
      "Low-Cost Screen Printing Metallization\t6ced4b9b-3e78-444c-bc6f-cdae66883a93\n",
      "Mechanics and Cracking\t013c9b94-41d6-40bc-bfac-496e01689542\n",
      "Modeling\t2ef9bff4-58ed-4559-8105-8cff662b1b22\n",
      "Module Forensics\t73b1c210-2f61-4a03-abb2-c48d6a8e5985\n",
      "Module-level Solutions for Cell-front Damage\t8dacca90-8e1d-4caa-9c4c-f22209b1634e\n",
      "Module Materials Library\ta84ec02a-7062-4b92-afed-ddbb33c758c0\n",
      "Module Material Solutions\tc1094c3d-b395-49e1-aace-e63391490990\n",
      "Reliable Low-Cost Encapsulation and Barrier Tech\t710f6500-cb00-4a6e-9cd1-b8971b19da2e\n",
      "New Materials for PV encapsulation\t70130f98-da57-431b-9be5-e00052989cc1\n",
      "Non-contact inspection of PV system fasteners \t87620ba5-c520-413f-a9cd-6b146c78a983\n",
      "NREL Bifacial Experimental Single-Axis Tracking (BEST) field \t8e40c3ae-f53e-4a48-8223-2d760840bf8f\n",
      "NREL Soiling Map\t15e1b647-f595-4176-a4d6-a981867b47ac\n",
      "Outdoor Accelerated Testing of PV Modules\t3cd6023c-9603-4a57-b54d-acbcfaa9d7a5\n",
      "Outdoor Time Series\t6aa689a5-65c4-4fad-92c6-85cb6a422a1d\n",
      "Pearl PV Test\t90070581-4e12-4af9-84be-99873eab4dcc\n",
      "Photovoltaic Climate Zones\ta9868d06-bd89-4f1f-85e6-7f23a476e0da\n",
      "PLatypus\t8f81735e-b0f1-4845-a202-6c470020e4b6\n",
      "Predictive Simulation\t2901eb09-6b81-4f6a-95dd-c64eec449279\n",
      "Data Aggregated from Literature Searches\t5a4747d4-869f-465d-94ac-b082e2913841\n",
      "PV Anti-Reflection Coating Performance\t234d3517-b4b3-4dd7-9c7f-4072319e075c\n",
      "PVCAMPER\t04fc2400-0ede-4393-8814-72c49ae099c7\n",
      "PVCAMPER-CREST-LU\ta6c15a10-141b-42c3-97a9-777e075138a1\n",
      "PVCAMPER-Fotovoltaica-UFSC\t701b2a13-b929-48a1-9795-3d61431b3d88\n",
      "PVCamper-SERIS\t1ed6be87-b396-4758-b953-e986098c0d7c\n",
      "PV Crack Stress and Power Loss\ta13f4716-8f75-49fd-9bd3-38940a6e5af1\n",
      "PV Degradation Analytics\t237d5f59-4a35-4a65-88cf-cfeb24f7b102\n",
      "PV Degradation Prediction Tool and Database\tce885b6e-2c89-4655-b013-9b0eab3d47eb\n",
      "PV Field Data\tc0b26921-1b95-4b60-89e4-11188b18347b\n",
      "PV Fleet Data Initiative\t03b2e844-1fda-4725-9edc-ba09b4ca8a79\n",
      "PV Lifetime \t7c05fce7-256f-470b-8106-6fdb64ae3ca2\n",
      "PV Module BOM and Test Data\tcc20346c-0c2d-4018-aacd-0aa7c8eee4e6\n",
      "PVPMC\t412d3f92-b9d5-4602-beb5-412382844cc1\n",
      "PV Pro\t63a90897-67c3-43fe-9d88-115f59954286\n",
      "PVQAT TG12 field soiling coupons\t13f71a9f-aa40-499e-b3c6-69203bd57ebe\n",
      "PVQAT TG5 Study 1\ta532d168-881e-46f2-831e-d388add09734\n",
      "PVQAT TG5 Study 2\t3ea2de95-caa6-44ce-8aa5-95c09079cbea\n",
      "PV Recycling\td9725a2d-5d2c-4d75-81de-bfa50c446ee1\n",
      "Regional Test Centers\t3c96bfcf-65f2-4152-8c87-71ee448ad681\n",
      "Reliability of HE Cells with Cu Contacts\t905b2548-e3dd-49a0-8b3e-d8aa46eefbaa\n",
      "Room Temperature Electroluminescence\ted32ed9c-5351-4139-ab8f-763673c7b809\n",
      "PVCAMPER-Sandia PV Systems Evaluation Laboratory\t2bfa5f73-e14c-44df-9227-3ca1ee7f0e5d\n",
      "Scalable RTR Packaging Materials\t6e28d657-7b9b-4a5d-b96e-01c3041411f2\n",
      "Screen Printed Cu\tfb0ed536-3c2b-45c8-8eea-f75524f4b7ea\n",
      "SIERRA-COMSOL converter\t8b866f3e-ca9f-4725-9431-58995e3658c8\n",
      "Simulating PV wind loading\t222a386d-2cc4-4127-8a6f-1dbb41e759e2\n",
      "Solar Levelized Cost of Energy Analysis\tbbc8a8a3-0ba0-4fea-bc35-06def5d8cc77\n",
      "Spectral Irradiance Data and Resources\t4643a90a-763c-487e-9d2d-a6989caec67e\n",
      "Techno-Economic Analysis\t228f7808-3d0f-4d44-9fb3-cb7eae4008ef\n",
      "Temperature-Dependent Electroluminescence\t624b1842-24a0-4918-8b6f-b890620f220d\n",
      "Tensor Decomposition for Stress Testing\tdc6570b7-a70a-4993-8bb9-25b69cd5a12d\n",
      "Test 2\ta2886f59-58cd-4efb-a6d2-6c9f4e4f9782\n",
      "Test 3\t328a7cf0-2bea-40c3-8848-571b99f682f4\n",
      "Test 1\tb2e9090a-f2c5-43a9-b42d-df0d8191303c\n",
      "Thermomechanical cell demonstration\tc5b37c7f-191e-45da-931b-9b812a752c60\n",
      "UV Fluorescence Images and Models\tbcd003e9-8135-42a5-aa69-b3ffb5627029\n",
      "WhatsCracking\ta0bf4c64-394f-4f72-b04e-4194fa3cb268\n"
     ]
    }
   ],
   "source": [
    "response = ur.urlopen(request)\n",
    "data = json.loads(response.read().decode('utf-8'))   \n",
    "projects = data['result']\n",
    "for proj in projects:\n",
    "    print(proj['title'] + '\\t' + proj['id'])"
   ]
  },
  {
   "cell_type": "code",
   "execution_count": 13,
   "metadata": {},
   "outputs": [],
   "source": [
    "# Make dictionary of parameters and encode them into uri string\n",
    "params = {'permission': 'create_dataset'}\n",
    "param_string = up.urlencode( params )\n",
    "#Build composite url for request\n",
    "url = action('project_list_for_user') + '?' + param_string\n",
    "# https://datahub.duramat.org/api/3/action/project_list_for_user\n",
    "request = ur.Request(url)\n",
    "# Add authorization\n",
    "request.add_header('Authorization', api_token)\n",
    "response = ur.urlopen(request)\n",
    "data = json.loads(response.read().decode('utf-8'))   \n",
    "projects = data['result']\n",
    "for proj in projects:\n",
    "    print(proj['title'] + '\\t' + proj['id'])"
   ]
  },
  {
   "cell_type": "code",
   "execution_count": 17,
   "metadata": {},
   "outputs": [
    {
     "name": "stdout",
     "output_type": "stream",
     "text": [
      "NREL Bifacial Experimental Single-Axis Tracking (BEST) field \t8e40c3ae-f53e-4a48-8223-2d760840bf8f\n",
      "\tBEST Field Data\t72334fe1-fa52-45f8-a43c-836a35b9c526\n",
      "\tBEST FIELD images\t8cbc87c7-e1d3-49ce-82d5-634f7a429792\n"
     ]
    }
   ],
   "source": [
    "project_id = projectID\n",
    "params = {\n",
    "    'id': project_id,\n",
    "    'include_datasets': True,\n",
    "    'include_users': False\n",
    "}\n",
    "param_string = up.urlencode( params )\n",
    "#Build composite url for request\n",
    "url = action('project_show') + '?' + param_string\n",
    "# https://datahub.duramat.org/api/3/action/project_show\n",
    "request = ur.Request(url)\n",
    "# Add authorization\n",
    "request.add_header('Authorization', api_token)\n",
    "response = ur.urlopen(request)\n",
    "data = json.loads(response.read().decode('utf-8'))   \n",
    "project_detail = data['result']\n",
    "print (project_detail['title'] + '\\t' + project_detail['id'])\n",
    "datasets = project_detail['packages']\n",
    "for dataset in datasets:\n",
    "    print ('\\t' + dataset['title'] + '\\t' + dataset['id'])"
   ]
  },
  {
   "cell_type": "code",
   "execution_count": 21,
   "metadata": {},
   "outputs": [
    {
     "ename": "HTTPError",
     "evalue": "HTTP Error 404: NOT FOUND",
     "output_type": "error",
     "traceback": [
      "\u001b[1;31m---------------------------------------------------------------------------\u001b[0m",
      "\u001b[1;31mHTTPError\u001b[0m                                 Traceback (most recent call last)",
      "Cell \u001b[1;32mIn[21], line 13\u001b[0m\n\u001b[0;32m     11\u001b[0m \u001b[38;5;66;03m# Add authorization\u001b[39;00m\n\u001b[0;32m     12\u001b[0m request\u001b[38;5;241m.\u001b[39madd_header(\u001b[38;5;124m'\u001b[39m\u001b[38;5;124mAuthorization\u001b[39m\u001b[38;5;124m'\u001b[39m, api_token)\n\u001b[1;32m---> 13\u001b[0m response \u001b[38;5;241m=\u001b[39m ur\u001b[38;5;241m.\u001b[39murlopen(request)\n\u001b[0;32m     14\u001b[0m data \u001b[38;5;241m=\u001b[39m json\u001b[38;5;241m.\u001b[39mloads(response\u001b[38;5;241m.\u001b[39mread()\u001b[38;5;241m.\u001b[39mdecode(\u001b[38;5;124m'\u001b[39m\u001b[38;5;124mutf-8\u001b[39m\u001b[38;5;124m'\u001b[39m))   \n\u001b[0;32m     15\u001b[0m data_records \u001b[38;5;241m=\u001b[39m data[\u001b[38;5;124m'\u001b[39m\u001b[38;5;124mresult\u001b[39m\u001b[38;5;124m'\u001b[39m][\u001b[38;5;124m'\u001b[39m\u001b[38;5;124mrecords\u001b[39m\u001b[38;5;124m'\u001b[39m]\n",
      "File \u001b[1;32mC:\\ProgramData\\anaconda3\\Lib\\urllib\\request.py:216\u001b[0m, in \u001b[0;36murlopen\u001b[1;34m(url, data, timeout, cafile, capath, cadefault, context)\u001b[0m\n\u001b[0;32m    214\u001b[0m \u001b[38;5;28;01melse\u001b[39;00m:\n\u001b[0;32m    215\u001b[0m     opener \u001b[38;5;241m=\u001b[39m _opener\n\u001b[1;32m--> 216\u001b[0m \u001b[38;5;28;01mreturn\u001b[39;00m opener\u001b[38;5;241m.\u001b[39mopen(url, data, timeout)\n",
      "File \u001b[1;32mC:\\ProgramData\\anaconda3\\Lib\\urllib\\request.py:525\u001b[0m, in \u001b[0;36mOpenerDirector.open\u001b[1;34m(self, fullurl, data, timeout)\u001b[0m\n\u001b[0;32m    523\u001b[0m \u001b[38;5;28;01mfor\u001b[39;00m processor \u001b[38;5;129;01min\u001b[39;00m \u001b[38;5;28mself\u001b[39m\u001b[38;5;241m.\u001b[39mprocess_response\u001b[38;5;241m.\u001b[39mget(protocol, []):\n\u001b[0;32m    524\u001b[0m     meth \u001b[38;5;241m=\u001b[39m \u001b[38;5;28mgetattr\u001b[39m(processor, meth_name)\n\u001b[1;32m--> 525\u001b[0m     response \u001b[38;5;241m=\u001b[39m meth(req, response)\n\u001b[0;32m    527\u001b[0m \u001b[38;5;28;01mreturn\u001b[39;00m response\n",
      "File \u001b[1;32mC:\\ProgramData\\anaconda3\\Lib\\urllib\\request.py:634\u001b[0m, in \u001b[0;36mHTTPErrorProcessor.http_response\u001b[1;34m(self, request, response)\u001b[0m\n\u001b[0;32m    631\u001b[0m \u001b[38;5;66;03m# According to RFC 2616, \"2xx\" code indicates that the client's\u001b[39;00m\n\u001b[0;32m    632\u001b[0m \u001b[38;5;66;03m# request was successfully received, understood, and accepted.\u001b[39;00m\n\u001b[0;32m    633\u001b[0m \u001b[38;5;28;01mif\u001b[39;00m \u001b[38;5;129;01mnot\u001b[39;00m (\u001b[38;5;241m200\u001b[39m \u001b[38;5;241m<\u001b[39m\u001b[38;5;241m=\u001b[39m code \u001b[38;5;241m<\u001b[39m \u001b[38;5;241m300\u001b[39m):\n\u001b[1;32m--> 634\u001b[0m     response \u001b[38;5;241m=\u001b[39m \u001b[38;5;28mself\u001b[39m\u001b[38;5;241m.\u001b[39mparent\u001b[38;5;241m.\u001b[39merror(\n\u001b[0;32m    635\u001b[0m         \u001b[38;5;124m'\u001b[39m\u001b[38;5;124mhttp\u001b[39m\u001b[38;5;124m'\u001b[39m, request, response, code, msg, hdrs)\n\u001b[0;32m    637\u001b[0m \u001b[38;5;28;01mreturn\u001b[39;00m response\n",
      "File \u001b[1;32mC:\\ProgramData\\anaconda3\\Lib\\urllib\\request.py:563\u001b[0m, in \u001b[0;36mOpenerDirector.error\u001b[1;34m(self, proto, *args)\u001b[0m\n\u001b[0;32m    561\u001b[0m \u001b[38;5;28;01mif\u001b[39;00m http_err:\n\u001b[0;32m    562\u001b[0m     args \u001b[38;5;241m=\u001b[39m (\u001b[38;5;28mdict\u001b[39m, \u001b[38;5;124m'\u001b[39m\u001b[38;5;124mdefault\u001b[39m\u001b[38;5;124m'\u001b[39m, \u001b[38;5;124m'\u001b[39m\u001b[38;5;124mhttp_error_default\u001b[39m\u001b[38;5;124m'\u001b[39m) \u001b[38;5;241m+\u001b[39m orig_args\n\u001b[1;32m--> 563\u001b[0m     \u001b[38;5;28;01mreturn\u001b[39;00m \u001b[38;5;28mself\u001b[39m\u001b[38;5;241m.\u001b[39m_call_chain(\u001b[38;5;241m*\u001b[39margs)\n",
      "File \u001b[1;32mC:\\ProgramData\\anaconda3\\Lib\\urllib\\request.py:496\u001b[0m, in \u001b[0;36mOpenerDirector._call_chain\u001b[1;34m(self, chain, kind, meth_name, *args)\u001b[0m\n\u001b[0;32m    494\u001b[0m \u001b[38;5;28;01mfor\u001b[39;00m handler \u001b[38;5;129;01min\u001b[39;00m handlers:\n\u001b[0;32m    495\u001b[0m     func \u001b[38;5;241m=\u001b[39m \u001b[38;5;28mgetattr\u001b[39m(handler, meth_name)\n\u001b[1;32m--> 496\u001b[0m     result \u001b[38;5;241m=\u001b[39m func(\u001b[38;5;241m*\u001b[39margs)\n\u001b[0;32m    497\u001b[0m     \u001b[38;5;28;01mif\u001b[39;00m result \u001b[38;5;129;01mis\u001b[39;00m \u001b[38;5;129;01mnot\u001b[39;00m \u001b[38;5;28;01mNone\u001b[39;00m:\n\u001b[0;32m    498\u001b[0m         \u001b[38;5;28;01mreturn\u001b[39;00m result\n",
      "File \u001b[1;32mC:\\ProgramData\\anaconda3\\Lib\\urllib\\request.py:643\u001b[0m, in \u001b[0;36mHTTPDefaultErrorHandler.http_error_default\u001b[1;34m(self, req, fp, code, msg, hdrs)\u001b[0m\n\u001b[0;32m    642\u001b[0m \u001b[38;5;28;01mdef\u001b[39;00m \u001b[38;5;21mhttp_error_default\u001b[39m(\u001b[38;5;28mself\u001b[39m, req, fp, code, msg, hdrs):\n\u001b[1;32m--> 643\u001b[0m     \u001b[38;5;28;01mraise\u001b[39;00m HTTPError(req\u001b[38;5;241m.\u001b[39mfull_url, code, msg, hdrs, fp)\n",
      "\u001b[1;31mHTTPError\u001b[0m: HTTP Error 404: NOT FOUND"
     ]
    }
   ],
   "source": [
    "resource_id='72334fe1-fa52-45f8-a43c-836a35b9c526'\n",
    "params = {\n",
    "    'resource_id': resource_id,\n",
    "    #'q': 'Canadian Solar'\n",
    "}\n",
    "param_string = up.urlencode( params )\n",
    "#Build composite url for request\n",
    "url = action('datastore_search') + '?' + param_string\n",
    "# https://datahub.duramat.org/api/3/action/project_show\n",
    "request = ur.Request(url)\n",
    "# Add authorization\n",
    "request.add_header('Authorization', api_token)\n",
    "response = ur.urlopen(request)\n",
    "data = json.loads(response.read().decode('utf-8'))   \n",
    "data_records = data['result']['records']\n",
    "pp.pprint (data_records, indent=4)    "
   ]
  },
  {
   "cell_type": "code",
   "execution_count": null,
   "metadata": {},
   "outputs": [],
   "source": []
  }
 ],
 "metadata": {
  "kernelspec": {
   "display_name": "Python 3 (ipykernel)",
   "language": "python",
   "name": "python3"
  },
  "language_info": {
   "codemirror_mode": {
    "name": "ipython",
    "version": 3
   },
   "file_extension": ".py",
   "mimetype": "text/x-python",
   "name": "python",
   "nbconvert_exporter": "python",
   "pygments_lexer": "ipython3",
   "version": "3.11.7"
  },
  "vscode": {
   "interpreter": {
    "hash": "14c04630f1cd445b2532d35c77825134bfcafda47af70d0b9c2b5023b1f357a5"
   }
  }
 },
 "nbformat": 4,
 "nbformat_minor": 4
}
